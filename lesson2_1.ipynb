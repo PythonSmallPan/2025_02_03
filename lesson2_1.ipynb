{
 "cells": [
  {
   "cell_type": "code",
   "execution_count": 4,
   "metadata": {},
   "outputs": [
    {
     "name": "stdout",
     "output_type": "stream",
     "text": [
      "Hi\n"
     ]
    }
   ],
   "source": [
    "print(\"Hi\")"
   ]
  },
  {
   "cell_type": "code",
   "execution_count": 2,
   "metadata": {},
   "outputs": [
    {
     "data": {
      "text/plain": [
       "15"
      ]
     },
     "execution_count": 2,
     "metadata": {},
     "output_type": "execute_result"
    }
   ],
   "source": [
    "n=5\n",
    "m=10\n",
    "total=n+m\n",
    "total"
   ]
  },
  {
   "cell_type": "code",
   "execution_count": 1,
   "metadata": {},
   "outputs": [
    {
     "name": "stdout",
     "output_type": "stream",
     "text": [
      "Hello! Python\n"
     ]
    }
   ],
   "source": [
    "print(\"Hello! Python\")"
   ]
  },
  {
   "cell_type": "code",
   "execution_count": null,
   "metadata": {},
   "outputs": [
    {
     "name": "stdout",
     "output_type": "stream",
     "text": [
      "4 + 5.5 = 9.5\n"
     ]
    }
   ],
   "source": [
    "#使用input (),請使用者字自行輸入值\n",
    "n = eval(input('請輸入n的值：'))\n",
    "m = eval(input('請輸入m的值：'))\n",
    "total=n+m\n",
    "print(n,'+',m,'=',total)"
   ]
  },
  {
   "cell_type": "code",
   "execution_count": 6,
   "metadata": {},
   "outputs": [
    {
     "name": "stdout",
     "output_type": "stream",
     "text": [
      "10\n",
      "10 5 abc 6.88\n"
     ]
    }
   ],
   "source": [
    "#1個引數值\n",
    "print(10)\n",
    "#多個引數值\n",
    "print(10,'5','abc',6.88)"
   ]
  },
  {
   "cell_type": "code",
   "execution_count": 10,
   "metadata": {},
   "outputs": [
    {
     "name": "stdout",
     "output_type": "stream",
     "text": [
      "3.33333333+4.44444444=7.78\n"
     ]
    }
   ],
   "source": [
    "#使用input (),請使用者字自行輸入值\n",
    "n = eval(input('請輸入n的值：'))\n",
    "m = eval(input('請輸入m的值：'))\n",
    "total=n+m\n",
    "#字串差補\n",
    "print(f\"{n}+{m}={total:.2f}\")"
   ]
  }
 ],
 "metadata": {
  "kernelspec": {
   "display_name": "Python 3",
   "language": "python",
   "name": "python3"
  },
  "language_info": {
   "codemirror_mode": {
    "name": "ipython",
    "version": 3
   },
   "file_extension": ".py",
   "mimetype": "text/x-python",
   "name": "python",
   "nbconvert_exporter": "python",
   "pygments_lexer": "ipython3",
   "version": "3.10.16"
  }
 },
 "nbformat": 4,
 "nbformat_minor": 2
}
