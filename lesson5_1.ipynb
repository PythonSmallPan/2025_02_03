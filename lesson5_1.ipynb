{
 "cells": [
  {
   "cell_type": "code",
   "execution_count": 7,
   "metadata": {},
   "outputs": [
    {
     "name": "stdout",
     "output_type": "stream",
     "text": [
      "輸入格式有問題\n",
      "應用程式結束\n"
     ]
    }
   ],
   "source": [
    "#處理raise Exception\n",
    "try:\n",
    "    money = eval(input (\"請輸入金額:\"))\n",
    "    print (money)\n",
    "except:\n",
    "    print(\"輸入格式有問題\")\n",
    "\n",
    "print(\"應用程式結束\")"
   ]
  },
  {
   "cell_type": "code",
   "execution_count": 23,
   "metadata": {},
   "outputs": [
    {
     "name": "stdout",
     "output_type": "stream",
     "text": [
      "不知名的錯誤\n",
      "應用程式結束\n"
     ]
    }
   ],
   "source": [
    "#處理raise Exception\n",
    "try:\n",
    "    money = int(input (\"請輸入金額(請輸入整數):\"))\n",
    "    f1 = eval(input(\"請輸入浮點數\"))\n",
    "    raise KeyboardInterrupt\n",
    "    print (money)\n",
    "except SyntaxError:\n",
    "    print(\"輸入浮點數有問題\")\n",
    "except ValueError:\n",
    "    print(\"輸入金額時有問題\")\n",
    "except:\n",
    "    print(\"不知名的錯誤\")\n",
    "\n",
    "print(\"應用程式結束\")"
   ]
  }
 ],
 "metadata": {
  "kernelspec": {
   "display_name": "Python 3",
   "language": "python",
   "name": "python3"
  },
  "language_info": {
   "codemirror_mode": {
    "name": "ipython",
    "version": 3
   },
   "file_extension": ".py",
   "mimetype": "text/x-python",
   "name": "python",
   "nbconvert_exporter": "python",
   "pygments_lexer": "ipython3",
   "version": "3.10.16"
  }
 },
 "nbformat": 4,
 "nbformat_minor": 2
}
