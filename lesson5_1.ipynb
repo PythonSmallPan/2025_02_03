{
 "cells": [
  {
   "cell_type": "code",
   "execution_count": 7,
   "metadata": {},
   "outputs": [
    {
     "name": "stdout",
     "output_type": "stream",
     "text": [
      "輸入格式有問題\n",
      "應用程式結束\n"
     ]
    }
   ],
   "source": [
    "#處理raise Exception\n",
    "try:\n",
    "    money = eval(input (\"請輸入金額:\"))\n",
    "    print (money)\n",
    "except:\n",
    "    print(\"輸入格式有問題\")\n",
    "\n",
    "print(\"應用程式結束\")"
   ]
  },
  {
   "cell_type": "code",
   "execution_count": 23,
   "metadata": {},
   "outputs": [
    {
     "name": "stdout",
     "output_type": "stream",
     "text": [
      "不知名的錯誤\n",
      "應用程式結束\n"
     ]
    }
   ],
   "source": [
    "#處理raise Exception\n",
    "try:\n",
    "    money = int(input (\"請輸入金額(請輸入整數):\"))\n",
    "    f1 = eval(input(\"請輸入浮點數\"))\n",
    "    raise KeyboardInterrupt\n",
    "    print (money)\n",
    "except SyntaxError:\n",
    "    print(\"輸入浮點數有問題\")\n",
    "except ValueError:\n",
    "    print(\"輸入金額時有問題\")\n",
    "except:\n",
    "    print(\"不知名的錯誤\")\n",
    "\n",
    "print(\"應用程式結束\")"
   ]
  },
  {
   "cell_type": "code",
   "execution_count": 4,
   "metadata": {},
   "outputs": [
    {
     "name": "stdout",
     "output_type": "stream",
     "text": [
      "格式錯誤\n"
     ]
    }
   ],
   "source": [
    "#學生總分為300\n",
    "#要檢查學生輸入分數<=300\n",
    "#要檢查是否輸入格式是否正確\n",
    "#有些學生可以加5%\n",
    "#如果加分超過300,就已300為準\n",
    "\n",
    "try:\n",
    "    scores = int(input(\"請輸入學生分數(最高300分)：\"))\n",
    "except ValueError:\n",
    "    print(\"格式錯誤\")\n",
    "except:\n",
    "    print(\"不知名的錯誤\")\n",
    "else:\n",
    "    if scores <= 300:\n",
    "        is_add = input(\"學生是否符合加分條件?(y,n)\")\n",
    "\n",
    "        if(is_add == \"y\"):\n",
    "            scores *= 1.05\n",
    "            if scores > 300:\n",
    "                scores = 300\n",
    "        print(f\"學生分數是{round(scores)}\")\n",
    "\n",
    "    else:\n",
    "        print(\"學生分數不可以大於300\")\n",
    "    \n",
    "#print(f\"學生分數是{scores:.0f}\")\n",
    "#print(f\"學生分數是{int(scores)}\")\n"
   ]
  }
 ],
 "metadata": {
  "kernelspec": {
   "display_name": "Python 3",
   "language": "python",
   "name": "python3"
  },
  "language_info": {
   "codemirror_mode": {
    "name": "ipython",
    "version": 3
   },
   "file_extension": ".py",
   "mimetype": "text/x-python",
   "name": "python",
   "nbconvert_exporter": "python",
   "pygments_lexer": "ipython3",
   "version": "3.10.16"
  }
 },
 "nbformat": 4,
 "nbformat_minor": 2
}
