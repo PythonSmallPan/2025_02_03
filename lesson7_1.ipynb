{
 "cells": [
  {
   "cell_type": "code",
   "execution_count": 6,
   "metadata": {},
   "outputs": [
    {
     "name": "stdout",
     "output_type": "stream",
     "text": [
      "請輸入購買金額:150000\n",
      "實付金額是:120000.0\n"
     ]
    }
   ],
   "source": [
    "import pyinputplus as pyip\n",
    "\n",
    "a=pyip.inputInt(\"請輸入購買金額:\")\n",
    "print(a)\n",
    "\n",
    "if(a>=100000):\n",
    "    a=a*0.8\n",
    "    print(f\"實付金額是:{a}\")\n",
    "elif(a>=50000):\n",
    "    a=a*0.85\n",
    "    print(f\"實付金額是:{a}\")\n",
    "elif(a>30000):\n",
    "    a=a*0.9\n",
    "    print(f\"實付金額是:{a}\")\n",
    "else:\n",
    "    a=a*0.95\n",
    "    print(f\"實付金額是:{a}\")"
   ]
  },
  {
   "cell_type": "code",
   "execution_count": 15,
   "metadata": {},
   "outputs": [
    {
     "name": "stdout",
     "output_type": "stream",
     "text": [
      "請輸入身高，單位為公分:150.0\n",
      "請輸入體重，單位為公斤：53.9\n",
      "\n",
      "您的BMI是23.95556\n",
      "『您的體重正常』\n"
     ]
    }
   ],
   "source": [
    "import pyinputplus as pyip\n",
    "\n",
    "height = pyip.inputFloat(\"請輸入身高，單位為公分:\",min=0)\n",
    "print(height)\n",
    "\n",
    "weight = pyip.inputFloat(\"請輸入體重，單位為公斤：\",min=0)\n",
    "print(weight)\n",
    "\n",
    "BMI = weight/(height*0.01)**2\n",
    "\n",
    "if BMI < 18.5:\n",
    "    print(f\"\\n您的BMI是{BMI:.5f}\\n『您的體重過輕』\")\n",
    "elif BMI < 24:\n",
    "    print(f\"\\n您的BMI是{BMI:.5f}\\n『您的體重正常』\")\n",
    "elif BMI < 27:\n",
    "    print(f\"\\n您的BMI是{BMI:.5f}\\n『您的體重過重』\")\n",
    "elif BMI < 30:\n",
    "    print(f\"\\n您的BMI是{BMI:.5f}\\n『您的體重輕度肥胖』\")\n",
    "elif BMI < 35:\n",
    "    print(f\"\\n您的BMI是{BMI:.5f}\\n『您的體重中度肥胖』\")\n",
    "else:\n",
    "    print(f\"\\n您的BMI是{BMI:.5f}\\n『您的體重重度肥胖』\")\n"
   ]
  }
 ],
 "metadata": {
  "kernelspec": {
   "display_name": "Python 3",
   "language": "python",
   "name": "python3"
  },
  "language_info": {
   "codemirror_mode": {
    "name": "ipython",
    "version": 3
   },
   "file_extension": ".py",
   "mimetype": "text/x-python",
   "name": "python",
   "nbconvert_exporter": "python",
   "pygments_lexer": "ipython3",
   "version": "3.10.16"
  }
 },
 "nbformat": 4,
 "nbformat_minor": 2
}
