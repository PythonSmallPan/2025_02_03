{
 "cells": [
  {
   "cell_type": "code",
   "execution_count": 21,
   "metadata": {},
   "outputs": [
    {
     "name": "stdout",
     "output_type": "stream",
     "text": [
      "請輸入購買金額:130000\n",
      "實付金額是:104000.0\n"
     ]
    }
   ],
   "source": [
    "#請輸入顧客購買金額，若金額在\n",
    "# 100,000元 打8折\n",
    "#  50,000元 打85折\n",
    "#  30,000元 打9折\n",
    "#  10,000元 打95折\n",
    "import pyinputplus as pyip\n",
    "\n",
    "a=pyip.inputInt(\"請輸入購買金額:\")\n",
    "print(a)\n",
    "\n",
    "if(a>=100000):\n",
    "    a=a*0.8\n",
    "    print(f\"實付金額是:{a}\")\n",
    "elif(a>=50000):\n",
    "    a=a*0.85\n",
    "    print(f\"實付金額是:{a}\")\n",
    "elif(a>30000):\n",
    "    a=a*0.9\n",
    "    print(f\"實付金額是:{a}\")\n",
    "else:\n",
    "    a=a*0.95\n",
    "    print(f\"實付金額是:{a}\")"
   ]
  },
  {
   "cell_type": "code",
   "execution_count": null,
   "metadata": {},
   "outputs": [
    {
     "name": "stdout",
     "output_type": "stream",
     "text": [
      "請輸入身高，單位為公分:150.0\n",
      "請輸入體重，單位為公斤：53.9\n",
      "\n",
      "您的BMI是23.95556\n",
      "『您的體重正常』\n"
     ]
    }
   ],
   "source": [
    "import pyinputplus as pyip\n",
    "\n",
    "height = pyip.inputFloat(\"請輸入身高，單位為公分:\",min=0)\n",
    "print(height)\n",
    "weight = pyip.inputFloat(\"請輸入體重，單位為公斤：\",min=0)\n",
    "print(weight)\n",
    "\n",
    "BMI = weight/(height*0.01)**2\n",
    "\n",
    "if BMI < 18.5:\n",
    "    print(f\"\\n您的BMI是{BMI:.5f}\\n『您的體重過輕』\")\n",
    "elif BMI < 24:\n",
    "    print(f\"\\n您的BMI是{BMI:.5f}\\n『您的體重正常』\")\n",
    "elif BMI < 27:\n",
    "    print(f\"\\n您的BMI是{BMI:.5f}\\n『您的體重過重』\")\n",
    "elif BMI < 30:\n",
    "    print(f\"\\n您的BMI是{BMI:.5f}\\n『您的體重輕度肥胖』\")\n",
    "elif BMI < 35:\n",
    "    print(f\"\\n您的BMI是{BMI:.5f}\\n『您的體重中度肥胖』\")\n",
    "else:\n",
    "    print(f\"\\n您的BMI是{BMI:.5f}\\n『您的體重重度肥胖』\")\n"
   ]
  },
  {
   "cell_type": "code",
   "execution_count": 20,
   "metadata": {},
   "outputs": [
    {
     "name": "stdout",
     "output_type": "stream",
     "text": [
      "請輸入整數，求所有因數：30\n",
      "30的因數有：1 2 3 5 6 10 15 30 "
     ]
    }
   ],
   "source": [
    "# 求所有因數\n",
    "\n",
    "import pyinputplus as pyip\n",
    "a = pyip.inputInt(\"請輸入整數，求所有因數：\")\n",
    "print(a)\n",
    "print(f\"{a}的因數有：\",end=\"\")\n",
    "for i in range(1,a+1,+1):\n",
    "    b=a%i\n",
    "    if(b==0):\n",
    "        print(i,end=\" \")"
   ]
  },
  {
   "cell_type": "code",
   "execution_count": 8,
   "metadata": {},
   "outputs": [
    {
     "name": "stdout",
     "output_type": "stream",
     "text": [
      "請輸入第1月份存款:Blank values are not allowed.\n",
      "請輸入第1月份存款:20000\n",
      "請輸入第2月份存款:3000\n",
      "請輸入第3月份存款:5000\n",
      "請輸入第4月份存款:8000\n",
      "恭喜!已經存夠了,共存了4月份,總存款為:36000\n"
     ]
    }
   ],
   "source": [
    "#小明想要存錢買一輛機車,機車每輛30,000元,他將每月存的錢輸入,當存款族購買機車時,就顯示提示訊息告知。\n",
    "import pyinputplus as pyip                        #使用套件\n",
    "deposit=0                                         #定義一個deposit=0 (訂金/儲蓄)\n",
    "month = 0                                         #希望可以輸出月份\n",
    "while deposit < 30000:                            #當存款金額小於3w,我就要存錢\n",
    "    month += 1                                    #要移到money_month的前面一行,程式一進來就要先+1,沒進來就不會+1 就會跳出去\n",
    "    money_month=pyip.inputInt(f\"請輸入第{month}月份存款:\")   #要縮排,套件提供的一個funtion叫做inputInt,在把命名打在前面可用特殊符號也可用底線\n",
    "   \n",
    "    print(money_month)\n",
    "    deposit += money_month                        #使用複合指定運算子,等於or大於 3w時,才會跳出\n",
    "\n",
    "print(f\"恭喜!已經存夠了,共存了{month}月份,總存款為:{deposit}\")        #使用字串差補,恭喜已經存夠了!"
   ]
  },
  {
   "cell_type": "code",
   "execution_count": 8,
   "metadata": {},
   "outputs": [
    {
     "name": "stdout",
     "output_type": "stream",
     "text": [
      "請輸入小寫英文字[按q會離開]:Taipei\n",
      "請輸入小寫英文字[按q會離開]:Japan\n",
      "請輸入小寫英文字[按q會離開]:結束程式\n"
     ]
    }
   ],
   "source": [
    "#輸入小寫的英文字,列印出第一個字大寫的英文字\n",
    "#如果輸入q,就會離開\n",
    "\n",
    "import pyinputplus as pyip                                #使用套件,前面有輸入過pyip就不用再重複輸入。\n",
    "stuff = pyip.inputStr(\"請輸入小寫英文字[按q會離開]:\")       #Str=字串。在\"=\"前面打變數,傳出自串\n",
    "while(stuff != 'q'):                                      #字串如果不是(不等於!=)q,自串可以比較(等於==),字串可以用單引號或雙引號\n",
    "    print(stuff.capitalize())                             #這是內建的function,(看說明書)實體方法>可以把英文字變成大寫\n",
    "    stuff = pyip.inputStr(\"請輸入小寫英文字[按q會離開]:\")\n",
    "\n",
    "print(\"結束程式\")\n"
   ]
  },
  {
   "cell_type": "code",
   "execution_count": 3,
   "metadata": {},
   "outputs": [
    {
     "name": "stdout",
     "output_type": "stream",
     "text": [
      "請輸入小寫英文字[按q會離開]:"
     ]
    },
    {
     "name": "stdout",
     "output_type": "stream",
     "text": [
      "Taipei\n",
      "請輸入小寫英文字[按q會離開]:Janpan\n",
      "請輸入小寫英文字[按q會離開]:結束程式\n"
     ]
    }
   ],
   "source": [
    "#輸入小寫的英文字,列印出第一個字大寫的英文字\n",
    "#如果輸入q,就會離開\n",
    "\n",
    "while(True):\n",
    "    import pyinputplus as pyip\n",
    "    stuff = pyip.inputStr(\"請輸入小寫英文字[按q會離開]:\")\n",
    "    if stuff == 'q':\n",
    "        break\n",
    "    print(stuff.capitalize())\n",
    "\n",
    "\n",
    "\n",
    "print(\"結束程式\")"
   ]
  },
  {
   "cell_type": "code",
   "execution_count": 2,
   "metadata": {},
   "outputs": [
    {
     "name": "stdout",
     "output_type": "stream",
     "text": [
      "請輸入小寫英文字[按q會離開]:"
     ]
    },
    {
     "name": "stdout",
     "output_type": "stream",
     "text": [
      "Apple\n",
      "請輸入小寫英文字[按q會離開]:Banana\n",
      "請輸入小寫英文字[按q會離開]:Cat\n",
      "請輸入小寫英文字[按q會離開]:Dog\n",
      "請輸入小寫英文字[按q會離開]:Hello\n",
      "請輸入小寫英文字[按q會離開]:Good morning\n",
      "請輸入小寫英文字[按q會離開]:結束程式\n"
     ]
    }
   ],
   "source": [
    "#輸入小寫的英文字,列印出第一個大寫的英文字\n",
    "#如果輸入q,就會離開\n",
    "\n",
    "while(True):\n",
    "    import pyinputplus as pyip\n",
    "    stuff = pyip.inputStr(\"請輸入小寫英文字[按q會離開]:\")\n",
    "    if stuff == 'q':\n",
    "        break\n",
    "    print(stuff.capitalize())\n",
    "\n",
    "\n",
    "print(\"結束程式\")"
   ]
  }
 ],
 "metadata": {
  "kernelspec": {
   "display_name": "Python 3",
   "language": "python",
   "name": "python3"
  },
  "language_info": {
   "codemirror_mode": {
    "name": "ipython",
    "version": 3
   },
   "file_extension": ".py",
   "mimetype": "text/x-python",
   "name": "python",
   "nbconvert_exporter": "python",
   "pygments_lexer": "ipython3",
   "version": "3.10.16"
  }
 },
 "nbformat": 4,
 "nbformat_minor": 2
}
